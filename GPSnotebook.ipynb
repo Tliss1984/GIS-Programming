{
 "cells": [
  {
   "cell_type": "code",
   "execution_count": 4,
   "metadata": {},
   "outputs": [
    {
     "data": {
      "text/html": [
       "<div>\n",
       "<style scoped>\n",
       "    .dataframe tbody tr th:only-of-type {\n",
       "        vertical-align: middle;\n",
       "    }\n",
       "\n",
       "    .dataframe tbody tr th {\n",
       "        vertical-align: top;\n",
       "    }\n",
       "\n",
       "    .dataframe thead th {\n",
       "        text-align: right;\n",
       "    }\n",
       "</style>\n",
       "<table border=\"1\" class=\"dataframe\">\n",
       "  <thead>\n",
       "    <tr style=\"text-align: right;\">\n",
       "      <th></th>\n",
       "      <th>CONTOUR</th>\n",
       "      <th>SHAPE_LEN</th>\n",
       "      <th>geometry</th>\n",
       "    </tr>\n",
       "  </thead>\n",
       "  <tbody>\n",
       "    <tr>\n",
       "      <th>0</th>\n",
       "      <td>-5</td>\n",
       "      <td>12743.383395</td>\n",
       "      <td>LINESTRING (774194.500 1262907.000, 774093.810...</td>\n",
       "    </tr>\n",
       "    <tr>\n",
       "      <th>1</th>\n",
       "      <td>-40</td>\n",
       "      <td>14091.591145</td>\n",
       "      <td>LINESTRING (712508.130 1264982.630, 712463.310...</td>\n",
       "    </tr>\n",
       "    <tr>\n",
       "      <th>2</th>\n",
       "      <td>-15</td>\n",
       "      <td>4117.339914</td>\n",
       "      <td>LINESTRING (690274.060 1262112.500, 690567.880...</td>\n",
       "    </tr>\n",
       "    <tr>\n",
       "      <th>3</th>\n",
       "      <td>-5</td>\n",
       "      <td>8631.707382</td>\n",
       "      <td>LINESTRING (784150.440 1261954.880, 784018.060...</td>\n",
       "    </tr>\n",
       "    <tr>\n",
       "      <th>4</th>\n",
       "      <td>-5</td>\n",
       "      <td>6317.224511</td>\n",
       "      <td>LINESTRING (768705.440 1261451.750, 768640.130...</td>\n",
       "    </tr>\n",
       "  </tbody>\n",
       "</table>\n",
       "</div>"
      ],
      "text/plain": [
       "   CONTOUR     SHAPE_LEN                                           geometry\n",
       "0       -5  12743.383395  LINESTRING (774194.500 1262907.000, 774093.810...\n",
       "1      -40  14091.591145  LINESTRING (712508.130 1264982.630, 712463.310...\n",
       "2      -15   4117.339914  LINESTRING (690274.060 1262112.500, 690567.880...\n",
       "3       -5   8631.707382  LINESTRING (784150.440 1261954.880, 784018.060...\n",
       "4       -5   6317.224511  LINESTRING (768705.440 1261451.750, 768640.130..."
      ]
     },
     "execution_count": 4,
     "metadata": {},
     "output_type": "execute_result"
    }
   ],
   "source": [
    "import geopandas as gp\n",
    "\n",
    "import pandas as pd\n",
    "import matplotlib\n",
    "\n",
    "data= gp.read_file(r\"C:\\Users\\tliss\\Desktop\\GIS TEST\\bathymgm\\BATHYMGM_ARC.shp\")\n",
    "\n",
    "chart = data.head()\n",
    "chart"
   ]
  },
  {
   "cell_type": "code",
   "execution_count": 5,
   "metadata": {},
   "outputs": [
    {
     "data": {
      "text/plain": [
       "<AxesSubplot:>"
      ]
     },
     "execution_count": 5,
     "metadata": {},
     "output_type": "execute_result"
    },
    {
     "data": {
      "image/png": "[encoded data removed]",
      "text/plain": [
       "<Figure size 432x288 with 1 Axes>"
      ]
     },
     "metadata": {
      "needs_background": "light"
     },
     "output_type": "display_data"
    }
   ],
   "source": [
    "chart.SHAPE_LEN.plot.bar(x=\"CONTOUR\")"
   ]
  },
  {
   "cell_type": "code",
   "execution_count": null,
   "metadata": {},
   "outputs": [],
   "source": []
  }
 ],
 "metadata": {
  "kernelspec": {
   "display_name": "Python 3 (ipykernel)",
   "language": "python",
   "name": "python3"
  },
  "language_info": {
   "codemirror_mode": {
    "name": "ipython",
    "version": 3
   },
   "file_extension": ".py",
   "mimetype": "text/x-python",
   "name": "python",
   "nbconvert_exporter": "python",
   "pygments_lexer": "ipython3",
   "version": "3.9.7"
  }
 },
 "nbformat": 4,
 "nbformat_minor": 2
}
